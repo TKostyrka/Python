{
 "cells": [
  {
   "cell_type": "code",
   "execution_count": 1,
   "metadata": {},
   "outputs": [],
   "source": [
    "import os\n",
    "import numpy as np\n",
    "import pandas as pd"
   ]
  },
  {
   "cell_type": "code",
   "execution_count": 2,
   "metadata": {},
   "outputs": [],
   "source": [
    "pth = os.path.join(\"..\",\"Files\",\"artwork_data.csv\")\n",
    "cols = ['id', 'artist','title','medium', 'width','height']\n",
    "df3 = pd.read_csv(pth, delimiter = ',', index_col = 'id', usecols=cols, low_memory=False)"
   ]
  },
  {
   "cell_type": "code",
   "execution_count": 3,
   "metadata": {},
   "outputs": [
    {
     "data": {
      "text/plain": [
       "dtype('O')"
      ]
     },
     "execution_count": 3,
     "metadata": {},
     "output_type": "execute_result"
    }
   ],
   "source": [
    "df3['height'].dtypes"
   ]
  },
  {
   "cell_type": "code",
   "execution_count": 12,
   "metadata": {},
   "outputs": [
    {
     "data": {
      "text/plain": [
       "artist     object\n",
       "title      object\n",
       "medium     object\n",
       "width     float64\n",
       "height    float64\n",
       "dtype: object"
      ]
     },
     "execution_count": 12,
     "metadata": {},
     "output_type": "execute_result"
    }
   ],
   "source": [
    "df3['width'] = pd.to_numeric(df3['width'], errors = 'coerce')\n",
    "df3['height'] = pd.to_numeric(df3['height'], errors = 'coerce')\n",
    "df3.dtypes"
   ]
  },
  {
   "cell_type": "code",
   "execution_count": 5,
   "metadata": {},
   "outputs": [
    {
     "data": {
      "text/plain": [
       "3336"
      ]
     },
     "execution_count": 5,
     "metadata": {},
     "output_type": "execute_result"
    }
   ],
   "source": [
    "len(pd.unique(df3['artist']))"
   ]
  },
  {
   "cell_type": "code",
   "execution_count": 6,
   "metadata": {},
   "outputs": [
    {
     "data": {
      "text/plain": [
       "False    69192\n",
       "True         9\n",
       "dtype: int64"
      ]
     },
     "execution_count": 6,
     "metadata": {},
     "output_type": "execute_result"
    }
   ],
   "source": [
    "i = (df3['artist'] == 'Bacon, Francis') & (df3['medium'] == 'Oil paint on canvas')\n",
    "i.value_counts()"
   ]
  },
  {
   "cell_type": "code",
   "execution_count": 7,
   "metadata": {},
   "outputs": [
    {
     "data": {
      "text/html": [
       "<div>\n",
       "<style scoped>\n",
       "    .dataframe tbody tr th:only-of-type {\n",
       "        vertical-align: middle;\n",
       "    }\n",
       "\n",
       "    .dataframe tbody tr th {\n",
       "        vertical-align: top;\n",
       "    }\n",
       "\n",
       "    .dataframe thead th {\n",
       "        text-align: right;\n",
       "    }\n",
       "</style>\n",
       "<table border=\"1\" class=\"dataframe\">\n",
       "  <thead>\n",
       "    <tr style=\"text-align: right;\">\n",
       "      <th></th>\n",
       "      <th>artist</th>\n",
       "      <th>title</th>\n",
       "      <th>medium</th>\n",
       "      <th>width</th>\n",
       "      <th>height</th>\n",
       "    </tr>\n",
       "    <tr>\n",
       "      <th>id</th>\n",
       "      <th></th>\n",
       "      <th></th>\n",
       "      <th></th>\n",
       "      <th></th>\n",
       "      <th></th>\n",
       "    </tr>\n",
       "  </thead>\n",
       "  <tbody>\n",
       "    <tr>\n",
       "      <th>672</th>\n",
       "      <td>Bacon, Francis</td>\n",
       "      <td>Figure in a Landscape</td>\n",
       "      <td>Oil paint on canvas</td>\n",
       "      <td>1448.0</td>\n",
       "      <td>1283.0</td>\n",
       "    </tr>\n",
       "    <tr>\n",
       "      <th>673</th>\n",
       "      <td>Bacon, Francis</td>\n",
       "      <td>Study of a Dog</td>\n",
       "      <td>Oil paint on canvas</td>\n",
       "      <td>1981.0</td>\n",
       "      <td>1372.0</td>\n",
       "    </tr>\n",
       "    <tr>\n",
       "      <th>677</th>\n",
       "      <td>Bacon, Francis</td>\n",
       "      <td>Study for a Portrait of Van Gogh IV</td>\n",
       "      <td>Oil paint on canvas</td>\n",
       "      <td>1524.0</td>\n",
       "      <td>1168.0</td>\n",
       "    </tr>\n",
       "    <tr>\n",
       "      <th>678</th>\n",
       "      <td>Bacon, Francis</td>\n",
       "      <td>Reclining Woman</td>\n",
       "      <td>Oil paint on canvas</td>\n",
       "      <td>1988.0</td>\n",
       "      <td>1416.0</td>\n",
       "    </tr>\n",
       "    <tr>\n",
       "      <th>679</th>\n",
       "      <td>Bacon, Francis</td>\n",
       "      <td>Seated Figure</td>\n",
       "      <td>Oil paint on canvas</td>\n",
       "      <td>1651.0</td>\n",
       "      <td>1422.0</td>\n",
       "    </tr>\n",
       "    <tr>\n",
       "      <th>680</th>\n",
       "      <td>Bacon, Francis</td>\n",
       "      <td>Study for Portrait on Folding Bed</td>\n",
       "      <td>Oil paint on canvas</td>\n",
       "      <td>1981.0</td>\n",
       "      <td>1473.0</td>\n",
       "    </tr>\n",
       "    <tr>\n",
       "      <th>681</th>\n",
       "      <td>Bacon, Francis</td>\n",
       "      <td>Portrait of Isabel Rawsthorne</td>\n",
       "      <td>Oil paint on canvas</td>\n",
       "      <td>813.0</td>\n",
       "      <td>686.0</td>\n",
       "    </tr>\n",
       "    <tr>\n",
       "      <th>683</th>\n",
       "      <td>Bacon, Francis</td>\n",
       "      <td>Study for Portrait II (after the Life Mask of ...</td>\n",
       "      <td>Oil paint on canvas</td>\n",
       "      <td>610.0</td>\n",
       "      <td>508.0</td>\n",
       "    </tr>\n",
       "    <tr>\n",
       "      <th>21897</th>\n",
       "      <td>Bacon, Francis</td>\n",
       "      <td>Figures in a Garden</td>\n",
       "      <td>Oil paint on canvas</td>\n",
       "      <td>740.0</td>\n",
       "      <td>940.0</td>\n",
       "    </tr>\n",
       "  </tbody>\n",
       "</table>\n",
       "</div>"
      ],
      "text/plain": [
       "               artist                                              title  \\\n",
       "id                                                                         \n",
       "672    Bacon, Francis                              Figure in a Landscape   \n",
       "673    Bacon, Francis                                     Study of a Dog   \n",
       "677    Bacon, Francis                Study for a Portrait of Van Gogh IV   \n",
       "678    Bacon, Francis                                    Reclining Woman   \n",
       "679    Bacon, Francis                                      Seated Figure   \n",
       "680    Bacon, Francis                  Study for Portrait on Folding Bed   \n",
       "681    Bacon, Francis                      Portrait of Isabel Rawsthorne   \n",
       "683    Bacon, Francis  Study for Portrait II (after the Life Mask of ...   \n",
       "21897  Bacon, Francis                                Figures in a Garden   \n",
       "\n",
       "                    medium   width  height  \n",
       "id                                          \n",
       "672    Oil paint on canvas  1448.0  1283.0  \n",
       "673    Oil paint on canvas  1981.0  1372.0  \n",
       "677    Oil paint on canvas  1524.0  1168.0  \n",
       "678    Oil paint on canvas  1988.0  1416.0  \n",
       "679    Oil paint on canvas  1651.0  1422.0  \n",
       "680    Oil paint on canvas  1981.0  1473.0  \n",
       "681    Oil paint on canvas   813.0   686.0  \n",
       "683    Oil paint on canvas   610.0   508.0  \n",
       "21897  Oil paint on canvas   740.0   940.0  "
      ]
     },
     "execution_count": 7,
     "metadata": {},
     "output_type": "execute_result"
    }
   ],
   "source": [
    "df4 = df3[i]\n",
    "df4"
   ]
  },
  {
   "cell_type": "code",
   "execution_count": 8,
   "metadata": {},
   "outputs": [
    {
     "data": {
      "text/plain": [
       "artist                         Bacon, Francis\n",
       "title     Study for a Portrait of Van Gogh IV\n",
       "medium                    Oil paint on canvas\n",
       "width                                    1524\n",
       "height                                   1168\n",
       "Name: 677, dtype: object"
      ]
     },
     "execution_count": 8,
     "metadata": {},
     "output_type": "execute_result"
    }
   ],
   "source": [
    "df4.loc[677,:]"
   ]
  },
  {
   "cell_type": "code",
   "execution_count": 9,
   "metadata": {},
   "outputs": [
    {
     "data": {
      "text/html": [
       "<div>\n",
       "<style scoped>\n",
       "    .dataframe tbody tr th:only-of-type {\n",
       "        vertical-align: middle;\n",
       "    }\n",
       "\n",
       "    .dataframe tbody tr th {\n",
       "        vertical-align: top;\n",
       "    }\n",
       "\n",
       "    .dataframe thead th {\n",
       "        text-align: right;\n",
       "    }\n",
       "</style>\n",
       "<table border=\"1\" class=\"dataframe\">\n",
       "  <thead>\n",
       "    <tr style=\"text-align: right;\">\n",
       "      <th></th>\n",
       "      <th>artist</th>\n",
       "      <th>title</th>\n",
       "      <th>medium</th>\n",
       "      <th>width</th>\n",
       "      <th>height</th>\n",
       "    </tr>\n",
       "    <tr>\n",
       "      <th>id</th>\n",
       "      <th></th>\n",
       "      <th></th>\n",
       "      <th></th>\n",
       "      <th></th>\n",
       "      <th></th>\n",
       "    </tr>\n",
       "  </thead>\n",
       "  <tbody>\n",
       "    <tr>\n",
       "      <th>677</th>\n",
       "      <td>Bacon, Francis</td>\n",
       "      <td>Study for a Portrait of Van Gogh IV</td>\n",
       "      <td>Oil paint on canvas</td>\n",
       "      <td>1524.0</td>\n",
       "      <td>1168.0</td>\n",
       "    </tr>\n",
       "  </tbody>\n",
       "</table>\n",
       "</div>"
      ],
      "text/plain": [
       "             artist                                title               medium  \\\n",
       "id                                                                              \n",
       "677  Bacon, Francis  Study for a Portrait of Van Gogh IV  Oil paint on canvas   \n",
       "\n",
       "      width  height  \n",
       "id                   \n",
       "677  1524.0  1168.0  "
      ]
     },
     "execution_count": 9,
     "metadata": {},
     "output_type": "execute_result"
    }
   ],
   "source": [
    "df4.loc[[677],:]"
   ]
  },
  {
   "cell_type": "code",
   "execution_count": 10,
   "metadata": {
    "scrolled": true
   },
   "outputs": [
    {
     "data": {
      "text/html": [
       "<div>\n",
       "<style scoped>\n",
       "    .dataframe tbody tr th:only-of-type {\n",
       "        vertical-align: middle;\n",
       "    }\n",
       "\n",
       "    .dataframe tbody tr th {\n",
       "        vertical-align: top;\n",
       "    }\n",
       "\n",
       "    .dataframe thead th {\n",
       "        text-align: right;\n",
       "    }\n",
       "</style>\n",
       "<table border=\"1\" class=\"dataframe\">\n",
       "  <thead>\n",
       "    <tr style=\"text-align: right;\">\n",
       "      <th></th>\n",
       "      <th>artist</th>\n",
       "      <th>title</th>\n",
       "      <th>medium</th>\n",
       "      <th>width</th>\n",
       "      <th>height</th>\n",
       "    </tr>\n",
       "    <tr>\n",
       "      <th>id</th>\n",
       "      <th></th>\n",
       "      <th></th>\n",
       "      <th></th>\n",
       "      <th></th>\n",
       "      <th></th>\n",
       "    </tr>\n",
       "  </thead>\n",
       "  <tbody>\n",
       "    <tr>\n",
       "      <th>678</th>\n",
       "      <td>Bacon, Francis</td>\n",
       "      <td>Reclining Woman</td>\n",
       "      <td>Oil paint on canvas</td>\n",
       "      <td>1988.0</td>\n",
       "      <td>1416.0</td>\n",
       "    </tr>\n",
       "  </tbody>\n",
       "</table>\n",
       "</div>"
      ],
      "text/plain": [
       "             artist            title               medium   width  height\n",
       "id                                                                       \n",
       "678  Bacon, Francis  Reclining Woman  Oil paint on canvas  1988.0  1416.0"
      ]
     },
     "execution_count": 10,
     "metadata": {},
     "output_type": "execute_result"
    }
   ],
   "source": [
    "df4.loc[df4['title'] == 'Reclining Woman',:]"
   ]
  },
  {
   "cell_type": "code",
   "execution_count": 11,
   "metadata": {},
   "outputs": [
    {
     "data": {
      "text/html": [
       "<div>\n",
       "<style scoped>\n",
       "    .dataframe tbody tr th:only-of-type {\n",
       "        vertical-align: middle;\n",
       "    }\n",
       "\n",
       "    .dataframe tbody tr th {\n",
       "        vertical-align: top;\n",
       "    }\n",
       "\n",
       "    .dataframe thead th {\n",
       "        text-align: right;\n",
       "    }\n",
       "</style>\n",
       "<table border=\"1\" class=\"dataframe\">\n",
       "  <thead>\n",
       "    <tr style=\"text-align: right;\">\n",
       "      <th></th>\n",
       "      <th>artist</th>\n",
       "      <th>title</th>\n",
       "      <th>medium</th>\n",
       "      <th>width</th>\n",
       "      <th>height</th>\n",
       "    </tr>\n",
       "    <tr>\n",
       "      <th>id</th>\n",
       "      <th></th>\n",
       "      <th></th>\n",
       "      <th></th>\n",
       "      <th></th>\n",
       "      <th></th>\n",
       "    </tr>\n",
       "  </thead>\n",
       "  <tbody>\n",
       "    <tr>\n",
       "      <th>678</th>\n",
       "      <td>Bacon, Francis</td>\n",
       "      <td>Reclining Woman</td>\n",
       "      <td>Oil paint on canvas</td>\n",
       "      <td>1988.0</td>\n",
       "      <td>1416.0</td>\n",
       "    </tr>\n",
       "  </tbody>\n",
       "</table>\n",
       "</div>"
      ],
      "text/plain": [
       "             artist            title               medium   width  height\n",
       "id                                                                       \n",
       "678  Bacon, Francis  Reclining Woman  Oil paint on canvas  1988.0  1416.0"
      ]
     },
     "execution_count": 11,
     "metadata": {},
     "output_type": "execute_result"
    }
   ],
   "source": [
    "df4.iloc[[3]]"
   ]
  },
  {
   "cell_type": "code",
   "execution_count": 19,
   "metadata": {},
   "outputs": [
    {
     "data": {
      "text/html": [
       "<div>\n",
       "<style scoped>\n",
       "    .dataframe tbody tr th:only-of-type {\n",
       "        vertical-align: middle;\n",
       "    }\n",
       "\n",
       "    .dataframe tbody tr th {\n",
       "        vertical-align: top;\n",
       "    }\n",
       "\n",
       "    .dataframe thead th {\n",
       "        text-align: right;\n",
       "    }\n",
       "</style>\n",
       "<table border=\"1\" class=\"dataframe\">\n",
       "  <thead>\n",
       "    <tr style=\"text-align: right;\">\n",
       "      <th></th>\n",
       "      <th>artist</th>\n",
       "      <th>title</th>\n",
       "      <th>medium</th>\n",
       "      <th>width</th>\n",
       "      <th>height</th>\n",
       "      <th>area</th>\n",
       "    </tr>\n",
       "    <tr>\n",
       "      <th>id</th>\n",
       "      <th></th>\n",
       "      <th></th>\n",
       "      <th></th>\n",
       "      <th></th>\n",
       "      <th></th>\n",
       "      <th></th>\n",
       "    </tr>\n",
       "  </thead>\n",
       "  <tbody>\n",
       "    <tr>\n",
       "      <th>672</th>\n",
       "      <td>Bacon, Francis</td>\n",
       "      <td>Figure in a Landscape</td>\n",
       "      <td>Oil paint on canvas</td>\n",
       "      <td>1448.0</td>\n",
       "      <td>1283.0</td>\n",
       "      <td>1857784.0</td>\n",
       "    </tr>\n",
       "    <tr>\n",
       "      <th>673</th>\n",
       "      <td>Bacon, Francis</td>\n",
       "      <td>Study of a Dog</td>\n",
       "      <td>Oil paint on canvas</td>\n",
       "      <td>1981.0</td>\n",
       "      <td>1372.0</td>\n",
       "      <td>2717932.0</td>\n",
       "    </tr>\n",
       "    <tr>\n",
       "      <th>677</th>\n",
       "      <td>Bacon, Francis</td>\n",
       "      <td>Study for a Portrait of Van Gogh IV</td>\n",
       "      <td>Oil paint on canvas</td>\n",
       "      <td>1524.0</td>\n",
       "      <td>1168.0</td>\n",
       "      <td>1780032.0</td>\n",
       "    </tr>\n",
       "    <tr>\n",
       "      <th>678</th>\n",
       "      <td>Bacon, Francis</td>\n",
       "      <td>Reclining Woman</td>\n",
       "      <td>Oil paint on canvas</td>\n",
       "      <td>1988.0</td>\n",
       "      <td>1416.0</td>\n",
       "      <td>2815008.0</td>\n",
       "    </tr>\n",
       "    <tr>\n",
       "      <th>679</th>\n",
       "      <td>Bacon, Francis</td>\n",
       "      <td>Seated Figure</td>\n",
       "      <td>Oil paint on canvas</td>\n",
       "      <td>1651.0</td>\n",
       "      <td>1422.0</td>\n",
       "      <td>2347722.0</td>\n",
       "    </tr>\n",
       "    <tr>\n",
       "      <th>680</th>\n",
       "      <td>Bacon, Francis</td>\n",
       "      <td>Study for Portrait on Folding Bed</td>\n",
       "      <td>Oil paint on canvas</td>\n",
       "      <td>1981.0</td>\n",
       "      <td>1473.0</td>\n",
       "      <td>2918013.0</td>\n",
       "    </tr>\n",
       "    <tr>\n",
       "      <th>681</th>\n",
       "      <td>Bacon, Francis</td>\n",
       "      <td>Portrait of Isabel Rawsthorne</td>\n",
       "      <td>Oil paint on canvas</td>\n",
       "      <td>813.0</td>\n",
       "      <td>686.0</td>\n",
       "      <td>557718.0</td>\n",
       "    </tr>\n",
       "    <tr>\n",
       "      <th>683</th>\n",
       "      <td>Bacon, Francis</td>\n",
       "      <td>Study for Portrait II (after the Life Mask of ...</td>\n",
       "      <td>Oil paint on canvas</td>\n",
       "      <td>610.0</td>\n",
       "      <td>508.0</td>\n",
       "      <td>309880.0</td>\n",
       "    </tr>\n",
       "    <tr>\n",
       "      <th>21897</th>\n",
       "      <td>Bacon, Francis</td>\n",
       "      <td>Figures in a Garden</td>\n",
       "      <td>Oil paint on canvas</td>\n",
       "      <td>740.0</td>\n",
       "      <td>940.0</td>\n",
       "      <td>695600.0</td>\n",
       "    </tr>\n",
       "  </tbody>\n",
       "</table>\n",
       "</div>"
      ],
      "text/plain": [
       "               artist                                              title  \\\n",
       "id                                                                         \n",
       "672    Bacon, Francis                              Figure in a Landscape   \n",
       "673    Bacon, Francis                                     Study of a Dog   \n",
       "677    Bacon, Francis                Study for a Portrait of Van Gogh IV   \n",
       "678    Bacon, Francis                                    Reclining Woman   \n",
       "679    Bacon, Francis                                      Seated Figure   \n",
       "680    Bacon, Francis                  Study for Portrait on Folding Bed   \n",
       "681    Bacon, Francis                      Portrait of Isabel Rawsthorne   \n",
       "683    Bacon, Francis  Study for Portrait II (after the Life Mask of ...   \n",
       "21897  Bacon, Francis                                Figures in a Garden   \n",
       "\n",
       "                    medium   width  height       area  \n",
       "id                                                     \n",
       "672    Oil paint on canvas  1448.0  1283.0  1857784.0  \n",
       "673    Oil paint on canvas  1981.0  1372.0  2717932.0  \n",
       "677    Oil paint on canvas  1524.0  1168.0  1780032.0  \n",
       "678    Oil paint on canvas  1988.0  1416.0  2815008.0  \n",
       "679    Oil paint on canvas  1651.0  1422.0  2347722.0  \n",
       "680    Oil paint on canvas  1981.0  1473.0  2918013.0  \n",
       "681    Oil paint on canvas   813.0   686.0   557718.0  \n",
       "683    Oil paint on canvas   610.0   508.0   309880.0  \n",
       "21897  Oil paint on canvas   740.0   940.0   695600.0  "
      ]
     },
     "execution_count": 19,
     "metadata": {},
     "output_type": "execute_result"
    }
   ],
   "source": [
    "df4 = df4.assign(area = df4['width'] * df4['height'])\n",
    "df4"
   ]
  },
  {
   "cell_type": "code",
   "execution_count": 20,
   "metadata": {},
   "outputs": [
    {
     "data": {
      "text/plain": [
       "id\n",
       "672      1857784.0\n",
       "673      2717932.0\n",
       "677      1780032.0\n",
       "678      2815008.0\n",
       "679      2347722.0\n",
       "680      2918013.0\n",
       "681       557718.0\n",
       "683       309880.0\n",
       "21897     695600.0\n",
       "Name: area, dtype: float64"
      ]
     },
     "execution_count": 20,
     "metadata": {},
     "output_type": "execute_result"
    }
   ],
   "source": [
    "df4['area']"
   ]
  }
 ],
 "metadata": {
  "kernelspec": {
   "display_name": "Python 3",
   "language": "python",
   "name": "python3"
  },
  "language_info": {
   "codemirror_mode": {
    "name": "ipython",
    "version": 3
   },
   "file_extension": ".py",
   "mimetype": "text/x-python",
   "name": "python",
   "nbconvert_exporter": "python",
   "pygments_lexer": "ipython3",
   "version": "3.7.7"
  }
 },
 "nbformat": 4,
 "nbformat_minor": 4
}
