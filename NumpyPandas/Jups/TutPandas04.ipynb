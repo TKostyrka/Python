{
 "cells": [
  {
   "cell_type": "code",
   "execution_count": 1,
   "metadata": {},
   "outputs": [],
   "source": [
    "import os\n",
    "import numpy as np\n",
    "import pandas as pd"
   ]
  },
  {
   "cell_type": "code",
   "execution_count": 2,
   "metadata": {},
   "outputs": [],
   "source": [
    "pth = os.path.join(\"..\",\"Files\",\"artwork_data.csv\")\n",
    "cols = ['id', 'artist','title','medium', 'width','height','year']\n",
    "df3 = pd.read_csv(pth, delimiter = ',', index_col = 'id', usecols=cols, low_memory=False)\n",
    "df3['width'] = pd.to_numeric(df3['width'], errors = 'coerce')\n",
    "df3['height'] = pd.to_numeric(df3['height'], errors = 'coerce')\n",
    "df3 = df3.assign(area = df3['width'] * df3['height'])"
   ]
  },
  {
   "cell_type": "code",
   "execution_count": 3,
   "metadata": {},
   "outputs": [
    {
     "data": {
      "text/html": [
       "<div>\n",
       "<style scoped>\n",
       "    .dataframe tbody tr th:only-of-type {\n",
       "        vertical-align: middle;\n",
       "    }\n",
       "\n",
       "    .dataframe tbody tr th {\n",
       "        vertical-align: top;\n",
       "    }\n",
       "\n",
       "    .dataframe thead th {\n",
       "        text-align: right;\n",
       "    }\n",
       "</style>\n",
       "<table border=\"1\" class=\"dataframe\">\n",
       "  <thead>\n",
       "    <tr style=\"text-align: right;\">\n",
       "      <th></th>\n",
       "      <th>artist</th>\n",
       "      <th>title</th>\n",
       "      <th>medium</th>\n",
       "      <th>year</th>\n",
       "      <th>width</th>\n",
       "      <th>height</th>\n",
       "      <th>area</th>\n",
       "    </tr>\n",
       "    <tr>\n",
       "      <th>id</th>\n",
       "      <th></th>\n",
       "      <th></th>\n",
       "      <th></th>\n",
       "      <th></th>\n",
       "      <th></th>\n",
       "      <th></th>\n",
       "      <th></th>\n",
       "    </tr>\n",
       "  </thead>\n",
       "  <tbody>\n",
       "    <tr>\n",
       "      <th>1035</th>\n",
       "      <td>Blake, Robert</td>\n",
       "      <td>A Figure Bowing before a Seated Old Man with h...</td>\n",
       "      <td>Watercolour, ink, chalk and graphite on paper....</td>\n",
       "      <td>NaN</td>\n",
       "      <td>394.0</td>\n",
       "      <td>419.0</td>\n",
       "      <td>165086.0</td>\n",
       "    </tr>\n",
       "    <tr>\n",
       "      <th>1036</th>\n",
       "      <td>Blake, Robert</td>\n",
       "      <td>Two Drawings of Frightened Figures, Probably f...</td>\n",
       "      <td>Graphite on paper</td>\n",
       "      <td>NaN</td>\n",
       "      <td>311.0</td>\n",
       "      <td>213.0</td>\n",
       "      <td>66243.0</td>\n",
       "    </tr>\n",
       "    <tr>\n",
       "      <th>1037</th>\n",
       "      <td>Blake, Robert</td>\n",
       "      <td>The Preaching of Warning. Verso: An Old Man En...</td>\n",
       "      <td>Graphite on paper. Verso: graphite on paper</td>\n",
       "      <td>1785</td>\n",
       "      <td>343.0</td>\n",
       "      <td>467.0</td>\n",
       "      <td>160181.0</td>\n",
       "    </tr>\n",
       "    <tr>\n",
       "      <th>1038</th>\n",
       "      <td>Blake, Robert</td>\n",
       "      <td>Six Drawings of Figures with Outstretched Arms</td>\n",
       "      <td>Graphite on paper</td>\n",
       "      <td>NaN</td>\n",
       "      <td>318.0</td>\n",
       "      <td>394.0</td>\n",
       "      <td>125292.0</td>\n",
       "    </tr>\n",
       "    <tr>\n",
       "      <th>1039</th>\n",
       "      <td>Blake, William</td>\n",
       "      <td>The Circle of the Lustful: Francesca da Rimini...</td>\n",
       "      <td>Line engraving on paper</td>\n",
       "      <td>1826</td>\n",
       "      <td>243.0</td>\n",
       "      <td>335.0</td>\n",
       "      <td>81405.0</td>\n",
       "    </tr>\n",
       "  </tbody>\n",
       "</table>\n",
       "</div>"
      ],
      "text/plain": [
       "              artist                                              title  \\\n",
       "id                                                                        \n",
       "1035   Blake, Robert  A Figure Bowing before a Seated Old Man with h...   \n",
       "1036   Blake, Robert  Two Drawings of Frightened Figures, Probably f...   \n",
       "1037   Blake, Robert  The Preaching of Warning. Verso: An Old Man En...   \n",
       "1038   Blake, Robert     Six Drawings of Figures with Outstretched Arms   \n",
       "1039  Blake, William  The Circle of the Lustful: Francesca da Rimini...   \n",
       "\n",
       "                                                 medium  year  width  height  \\\n",
       "id                                                                             \n",
       "1035  Watercolour, ink, chalk and graphite on paper....   NaN  394.0   419.0   \n",
       "1036                                  Graphite on paper   NaN  311.0   213.0   \n",
       "1037        Graphite on paper. Verso: graphite on paper  1785  343.0   467.0   \n",
       "1038                                  Graphite on paper   NaN  318.0   394.0   \n",
       "1039                            Line engraving on paper  1826  243.0   335.0   \n",
       "\n",
       "          area  \n",
       "id              \n",
       "1035  165086.0  \n",
       "1036   66243.0  \n",
       "1037  160181.0  \n",
       "1038  125292.0  \n",
       "1039   81405.0  "
      ]
     },
     "execution_count": 3,
     "metadata": {},
     "output_type": "execute_result"
    }
   ],
   "source": [
    "df3.head()"
   ]
  },
  {
   "cell_type": "code",
   "execution_count": 17,
   "metadata": {},
   "outputs": [
    {
     "data": {
      "text/plain": [
       "pandas.core.groupby.generic.DataFrameGroupBy"
      ]
     },
     "execution_count": 17,
     "metadata": {},
     "output_type": "execute_result"
    }
   ],
   "source": [
    "dfg = df3.iloc[0:100,:].groupby('artist')\n",
    "type(dfg)"
   ]
  },
  {
   "cell_type": "code",
   "execution_count": 18,
   "metadata": {
    "scrolled": true
   },
   "outputs": [
    {
     "name": "stdout",
     "output_type": "stream",
     "text": [
      "Blake, Robert\n",
      "Blake, William\n",
      "British School 18th century\n",
      "Burne-Jones, Sir Edward Coley, Bt\n",
      "Richmond, George\n"
     ]
    }
   ],
   "source": [
    "for name, group_df in dfg:\n",
    "    print(name)\n",
    "    "
   ]
  }
 ],
 "metadata": {
  "kernelspec": {
   "display_name": "Python 3",
   "language": "python",
   "name": "python3"
  },
  "language_info": {
   "codemirror_mode": {
    "name": "ipython",
    "version": 3
   },
   "file_extension": ".py",
   "mimetype": "text/x-python",
   "name": "python",
   "nbconvert_exporter": "python",
   "pygments_lexer": "ipython3",
   "version": "3.7.7"
  }
 },
 "nbformat": 4,
 "nbformat_minor": 4
}
