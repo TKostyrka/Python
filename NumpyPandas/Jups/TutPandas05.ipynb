{
 "cells": [
  {
   "cell_type": "code",
   "execution_count": 1,
   "metadata": {},
   "outputs": [],
   "source": [
    "import os\n",
    "import numpy as np\n",
    "import pandas as pd"
   ]
  },
  {
   "cell_type": "code",
   "execution_count": 3,
   "metadata": {},
   "outputs": [],
   "source": [
    "pth = os.path.join(\"..\",\"Files\",\"artwork_data.csv\")\n",
    "cols = ['id', 'artist','title','medium', 'width','height','year']\n",
    "df3 = pd.read_csv(pth, delimiter = ',', index_col = 'id', usecols=cols, low_memory=False)\n",
    "df3['width'] = pd.to_numeric(df3['width'], errors = 'coerce')\n",
    "df3['height'] = pd.to_numeric(df3['height'], errors = 'coerce')\n",
    "df3 = df3.assign(area = df3['width'] * df3['height'])"
   ]
  },
  {
   "cell_type": "code",
   "execution_count": 6,
   "metadata": {},
   "outputs": [],
   "source": [
    "pth = os.path.join(\"..\",\"Files\",\"dumptoexcel.xlsx\")\n",
    "df3.to_excel(pth)"
   ]
  },
  {
   "cell_type": "code",
   "execution_count": 10,
   "metadata": {},
   "outputs": [],
   "source": [
    "pth = os.path.join(\"..\",\"Files\",\"dumptocsv.csv\")\n",
    "df3.to_csv(pth, sep = ';')"
   ]
  },
  {
   "cell_type": "code",
   "execution_count": 14,
   "metadata": {},
   "outputs": [],
   "source": [
    "pth = os.path.join(\"..\",\"Files\",\"dumptojson.json\")\n",
    "dfj = df3.iloc[0:100,:]\n",
    "dfj.to_json(pth, orient = 'table')"
   ]
  }
 ],
 "metadata": {
  "kernelspec": {
   "display_name": "Python 3",
   "language": "python",
   "name": "python3"
  },
  "language_info": {
   "codemirror_mode": {
    "name": "ipython",
    "version": 3
   },
   "file_extension": ".py",
   "mimetype": "text/x-python",
   "name": "python",
   "nbconvert_exporter": "python",
   "pygments_lexer": "ipython3",
   "version": "3.7.7"
  }
 },
 "nbformat": 4,
 "nbformat_minor": 4
}
