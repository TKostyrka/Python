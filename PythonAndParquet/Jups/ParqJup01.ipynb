{
 "cells": [
  {
   "cell_type": "markdown",
   "metadata": {},
   "source": [
    "https://arrow.apache.org/docs/python/parquet.html"
   ]
  },
  {
   "cell_type": "code",
   "execution_count": 16,
   "metadata": {},
   "outputs": [],
   "source": [
    "import os\n",
    "import numpy as np\n",
    "import pandas as pd\n",
    "import pyarrow as pa\n",
    "import pyarrow.parquet as pq"
   ]
  },
  {
   "cell_type": "code",
   "execution_count": 24,
   "metadata": {},
   "outputs": [],
   "source": [
    "pth = os.path.join(\"..\",\"FilesCSV\",\"artwork_data.csv\")\n",
    "cols = ['id','artistId' , 'artist','title','medium', 'width','height','year']\n",
    "df3 = pd.read_csv(pth, delimiter = ',', index_col = 'id', usecols=cols, low_memory=False)\n",
    "df3['width'] = pd.to_numeric(df3['width'], errors = 'coerce')\n",
    "df3['height'] = pd.to_numeric(df3['height'], errors = 'coerce')\n",
    "df3 = df3.assign(area = df3['width'] * df3['height'])"
   ]
  },
  {
   "cell_type": "code",
   "execution_count": 7,
   "metadata": {},
   "outputs": [],
   "source": [
    "pth2 = os.path.join(\"..\",\"FilesParq\",\"artworkAll.parquet.gzip\")\n",
    "df3.to_parquet(pth2,compression='gzip')"
   ]
  },
  {
   "cell_type": "code",
   "execution_count": 11,
   "metadata": {},
   "outputs": [
    {
     "data": {
      "text/html": [
       "<div>\n",
       "<style scoped>\n",
       "    .dataframe tbody tr th:only-of-type {\n",
       "        vertical-align: middle;\n",
       "    }\n",
       "\n",
       "    .dataframe tbody tr th {\n",
       "        vertical-align: top;\n",
       "    }\n",
       "\n",
       "    .dataframe thead th {\n",
       "        text-align: right;\n",
       "    }\n",
       "</style>\n",
       "<table border=\"1\" class=\"dataframe\">\n",
       "  <thead>\n",
       "    <tr style=\"text-align: right;\">\n",
       "      <th></th>\n",
       "      <th>artist</th>\n",
       "      <th>title</th>\n",
       "    </tr>\n",
       "    <tr>\n",
       "      <th>id</th>\n",
       "      <th></th>\n",
       "      <th></th>\n",
       "    </tr>\n",
       "  </thead>\n",
       "  <tbody>\n",
       "    <tr>\n",
       "      <th>1035</th>\n",
       "      <td>Blake, Robert</td>\n",
       "      <td>A Figure Bowing before a Seated Old Man with h...</td>\n",
       "    </tr>\n",
       "    <tr>\n",
       "      <th>1036</th>\n",
       "      <td>Blake, Robert</td>\n",
       "      <td>Two Drawings of Frightened Figures, Probably f...</td>\n",
       "    </tr>\n",
       "    <tr>\n",
       "      <th>1037</th>\n",
       "      <td>Blake, Robert</td>\n",
       "      <td>The Preaching of Warning. Verso: An Old Man En...</td>\n",
       "    </tr>\n",
       "    <tr>\n",
       "      <th>1038</th>\n",
       "      <td>Blake, Robert</td>\n",
       "      <td>Six Drawings of Figures with Outstretched Arms</td>\n",
       "    </tr>\n",
       "    <tr>\n",
       "      <th>1039</th>\n",
       "      <td>Blake, William</td>\n",
       "      <td>The Circle of the Lustful: Francesca da Rimini...</td>\n",
       "    </tr>\n",
       "    <tr>\n",
       "      <th>...</th>\n",
       "      <td>...</td>\n",
       "      <td>...</td>\n",
       "    </tr>\n",
       "    <tr>\n",
       "      <th>122960</th>\n",
       "      <td>P-Orridge, Genesis</td>\n",
       "      <td>Larvae (from Tampax Romana)</td>\n",
       "    </tr>\n",
       "    <tr>\n",
       "      <th>122961</th>\n",
       "      <td>P-Orridge, Genesis</td>\n",
       "      <td>Living Womb (from Tampax Romana)</td>\n",
       "    </tr>\n",
       "    <tr>\n",
       "      <th>121181</th>\n",
       "      <td>Hatoum, Mona</td>\n",
       "      <td>Present Tense</td>\n",
       "    </tr>\n",
       "    <tr>\n",
       "      <th>112306</th>\n",
       "      <td>Creed, Martin</td>\n",
       "      <td>Work No. 227: The lights going on and off</td>\n",
       "    </tr>\n",
       "    <tr>\n",
       "      <th>127035</th>\n",
       "      <td>Brunias, Agostino</td>\n",
       "      <td>Dancing Scene in the West Indies</td>\n",
       "    </tr>\n",
       "  </tbody>\n",
       "</table>\n",
       "<p>69201 rows × 2 columns</p>\n",
       "</div>"
      ],
      "text/plain": [
       "                    artist                                              title\n",
       "id                                                                           \n",
       "1035         Blake, Robert  A Figure Bowing before a Seated Old Man with h...\n",
       "1036         Blake, Robert  Two Drawings of Frightened Figures, Probably f...\n",
       "1037         Blake, Robert  The Preaching of Warning. Verso: An Old Man En...\n",
       "1038         Blake, Robert     Six Drawings of Figures with Outstretched Arms\n",
       "1039        Blake, William  The Circle of the Lustful: Francesca da Rimini...\n",
       "...                    ...                                                ...\n",
       "122960  P-Orridge, Genesis                        Larvae (from Tampax Romana)\n",
       "122961  P-Orridge, Genesis                   Living Womb (from Tampax Romana)\n",
       "121181        Hatoum, Mona                                      Present Tense\n",
       "112306       Creed, Martin          Work No. 227: The lights going on and off\n",
       "127035   Brunias, Agostino                   Dancing Scene in the West Indies\n",
       "\n",
       "[69201 rows x 2 columns]"
      ]
     },
     "execution_count": 11,
     "metadata": {},
     "output_type": "execute_result"
    }
   ],
   "source": [
    "pq.read_pandas(pth2, columns=['id', 'artist','title']).to_pandas()"
   ]
  },
  {
   "cell_type": "code",
   "execution_count": 40,
   "metadata": {},
   "outputs": [],
   "source": [
    "pth3 = os.path.join(\"..\",\"FilesParq\",\"Partitioned\")\n",
    "tb3 = pa.Table.from_pandas(df3)\n",
    "\n",
    "pq.write_to_dataset(\n",
    "    tb3,\n",
    "    root_path=pth3,\n",
    "    partition_cols=['artistId'],\n",
    ")"
   ]
  },
  {
   "cell_type": "code",
   "execution_count": 44,
   "metadata": {},
   "outputs": [
    {
     "data": {
      "text/plain": [
       "pyarrow.Table\n",
       "artist: string\n",
       "title: string\n",
       "medium: string\n",
       "year: string\n",
       "width: double\n",
       "height: double\n",
       "area: double\n",
       "id: int64\n",
       "artistId: dictionary<values=int64, indices=int32, ordered=0>\n",
       "metadata\n",
       "--------\n",
       "{b'pandas': b'{\"index_columns\": [], \"column_indexes\": [], \"columns\": [{\"name\":'\n",
       "            b' \"artist\", \"field_name\": \"artist\", \"pandas_type\": \"unicode\", \"nu'\n",
       "            b'mpy_type\": \"object\", \"metadata\": null}, {\"name\": \"title\", \"field'\n",
       "            b'_name\": \"title\", \"pandas_type\": \"unicode\", \"numpy_type\": \"object'\n",
       "            b'\", \"metadata\": null}, {\"name\": \"medium\", \"field_name\": \"medium\",'\n",
       "            b' \"pandas_type\": \"unicode\", \"numpy_type\": \"object\", \"metadata\": n'\n",
       "            b'ull}, {\"name\": \"year\", \"field_name\": \"year\", \"pandas_type\": \"uni'\n",
       "            b'code\", \"numpy_type\": \"object\", \"metadata\": null}, {\"name\": \"widt'\n",
       "            b'h\", \"field_name\": \"width\", \"pandas_type\": \"float64\", \"numpy_type'\n",
       "            b'\": \"float64\", \"metadata\": null}, {\"name\": \"height\", \"field_name\"'\n",
       "            b': \"height\", \"pandas_type\": \"float64\", \"numpy_type\": \"float64\", \"'\n",
       "            b'metadata\": null}, {\"name\": \"area\", \"field_name\": \"area\", \"pandas'\n",
       "            b'_type\": \"float64\", \"numpy_type\": \"float64\", \"metadata\": null}, {'\n",
       "            b'\"name\": \"id\", \"field_name\": \"id\", \"pandas_type\": \"int64\", \"numpy'\n",
       "            b'_type\": \"int64\", \"metadata\": null}], \"creator\": {\"library\": \"pya'\n",
       "            b'rrow\", \"version\": \"0.15.1\"}, \"pandas_version\": \"1.0.3\"}'}"
      ]
     },
     "execution_count": 44,
     "metadata": {},
     "output_type": "execute_result"
    }
   ],
   "source": [
    "ds = pq.ParquetDataset(pth3)\n",
    "tb = ds.read()\n",
    "tb"
   ]
  }
 ],
 "metadata": {
  "kernelspec": {
   "display_name": "Python 3",
   "language": "python",
   "name": "python3"
  },
  "language_info": {
   "codemirror_mode": {
    "name": "ipython",
    "version": 3
   },
   "file_extension": ".py",
   "mimetype": "text/x-python",
   "name": "python",
   "nbconvert_exporter": "python",
   "pygments_lexer": "ipython3",
   "version": "3.7.7"
  }
 },
 "nbformat": 4,
 "nbformat_minor": 4
}
